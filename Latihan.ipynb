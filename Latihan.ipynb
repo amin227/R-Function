{
 "cells": [
  {
   "cell_type": "code",
   "execution_count": 1,
   "metadata": {},
   "outputs": [],
   "source": [
    "#1.1 f(x) = x^3 + x^2 - 6#1.1 f( \n",
    "#1.2 g(a, b) = ab(b - a)\n",
    "#1.3 h(m, n) = (√m/n) + m - 2n\n",
    "\n",
    "#2.1 f(a, b) = (a + b)ab\n",
    "#2.2 h(m, n) = |m|n − mn\n",
    "#2.3 g(x) = x'x − 2x"
   ]
  },
  {
   "cell_type": "code",
   "execution_count": 4,
   "metadata": {},
   "outputs": [],
   "source": [
    "#1.1\n",
    "f1 <- function(x){\n",
    "    h <- x^3 + x^2 - 6\n",
    "    return (h)\n",
    "}\n",
    "#1.2\n",
    "f2 <- function(a, b){\n",
    "    h <- a*b*(b-a)\n",
    "    return (h)\n",
    "}\n",
    "#1.3\n",
    "f3 <- function(m, n){\n",
    "    h <- (sqrt(m)/n) + m - 2*n\n",
    "    return (h)\n",
    "}"
   ]
  },
  {
   "cell_type": "code",
   "execution_count": 5,
   "metadata": {},
   "outputs": [
    {
     "data": {
      "text/html": [
       "246"
      ],
      "text/latex": [
       "246"
      ],
      "text/markdown": [
       "246"
      ],
      "text/plain": [
       "[1] 246"
      ]
     },
     "metadata": {},
     "output_type": "display_data"
    },
    {
     "data": {
      "text/html": [
       "-56"
      ],
      "text/latex": [
       "-56"
      ],
      "text/markdown": [
       "-56"
      ],
      "text/plain": [
       "[1] -56"
      ]
     },
     "metadata": {},
     "output_type": "display_data"
    },
    {
     "data": {
      "text/html": [
       "4.66666666666667"
      ],
      "text/latex": [
       "4.66666666666667"
      ],
      "text/markdown": [
       "4.66666666666667"
      ],
      "text/plain": [
       "[1] 4.666667"
      ]
     },
     "metadata": {},
     "output_type": "display_data"
    }
   ],
   "source": [
    "f1(6)\n",
    "f2(8, 1)\n",
    "f3(16, 6)"
   ]
  },
  {
   "cell_type": "code",
   "execution_count": 21,
   "metadata": {},
   "outputs": [
    {
     "ename": "ERROR",
     "evalue": "Error in parse(text = x, srcfile = src): <text>:2:5: unexpected symbol\n1: #2.1\n2: f4  f4\n       ^\n",
     "output_type": "error",
     "traceback": [
      "Error in parse(text = x, srcfile = src): <text>:2:5: unexpected symbol\n1: #2.1\n2: f4  f4\n       ^\nTraceback:\n"
     ]
    }
   ],
   "source": [
    "#2.1\n",
    "f4  f4 <-<-  functionfunction(a, b){\n",
    "    h <- (a + b) %*% a %*% b\n",
    "    return (h)\n",
    "}\n",
    "#2.2\n",
    "f5 <- function(m, n){\n",
    "    h <- det(m)*n - m %*% n\n",
    "    return (h)\n",
    "}\n",
    "#2.3\n",
    "f6 <- function(x){\n",
    "    h <- solve(x) %*% x - 2*x\n",
    "    return (h)\n",
    "}"
   ]
  },
  {
   "cell_type": "code",
   "execution_count": 22,
   "metadata": {},
   "outputs": [
    {
     "ename": "ERROR",
     "evalue": "Error in f4(a, b): could not find function \"f4\"\n",
     "output_type": "error",
     "traceback": [
      "Error in f4(a, b): could not find function \"f4\"\nTraceback:\n"
     ]
    }
   ],
   "source": [
    "values1 <- sample(1:20, 4)\n",
    "values2 <- sample(1:20, 4)\n",
    "\n",
    "a <- matrix(values1, 2, 2)\n",
    "b <- matrix(values2, 2, 2)\n",
    "\n",
    "f4(a, b)\n",
    "f5(a, b)\n",
    "f6(a)"
   ]
  },
  {
   "cell_type": "code",
   "execution_count": null,
   "metadata": {},
   "outputs": [],
   "source": []
  },
  {
   "cell_type": "code",
   "execution_count": null,
   "metadata": {},
   "outputs": [],
   "source": []
  }
 ],
 "metadata": {
  "kernelspec": {
   "display_name": "R",
   "language": "R",
   "name": "ir"
  },
  "language_info": {
   "codemirror_mode": "r",
   "file_extension": ".r",
   "mimetype": "text/x-r-source",
   "name": "R",
   "pygments_lexer": "r",
   "version": "3.5.1"
  }
 },
 "nbformat": 4,
 "nbformat_minor": 2
}
